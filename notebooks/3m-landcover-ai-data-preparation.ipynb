{
 "cells": [
  {
   "cell_type": "code",
   "execution_count": 1,
   "metadata": {},
   "outputs": [],
   "source": [
    "# Let's get started with notebook core dependencies\n",
    "import pandas as pd\n",
    "import pandera as pa\n",
    "import geopandas as gpd\n",
    "import shapely\n",
    "import numpy as np\n",
    "\n",
    "\n",
    "import seaborn as sns\n",
    "import matplotlib as mpl\n",
    "from lonboard import Map, viz, SolidPolygonLayer, PathLayer\n",
    "\n",
    "import rasterio\n",
    "from rasterio.plot import show\n",
    "import matplotlib.pyplot as plt\n",
    "import cartopy.crs as ccrs\n",
    "\n",
    "from geocube.api.core import make_geocube"
   ]
  },
  {
   "cell_type": "markdown",
   "metadata": {},
   "source": [
    "## Data preparation remote source files links\n"
   ]
  },
  {
   "cell_type": "code",
   "execution_count": 107,
   "metadata": {},
   "outputs": [],
   "source": [
    "# Liens data.montpellier3m.fr\n",
    "poles_zonage_3m_url = \"https://data.montpellier3m.fr/sites/default/files/ressources/MMM_MMM_PolesZonage_0.zip\"\n",
    "\n",
    "# cadastre archive contains multiple shapefiles (hydro, bati...)\n",
    "cadastre_3m_url = (\n",
    "    \"https://data.montpellier3m.fr/sites/default/files/ressources/MMM_MMM_Cadastre.zip\"\n",
    ")\n",
    "contour_3m_url = (\n",
    "    \"https://data.montpellier3m.fr/sites/default/files/ressources/MMM_MMM_Contours.zip\"\n",
    ")\n",
    "occsol_3m_url = (\n",
    "    \"https://data.montpellier3m.fr/sites/default/files/ressources/MMM_MMM_OccupSol.zip\"\n",
    ")"
   ]
  },
  {
   "cell_type": "code",
   "execution_count": 2,
   "metadata": {},
   "outputs": [],
   "source": [
    "def download_extract_delete_remote_archives(archives_urls, out_folder=\"./data/3m\"):\n",
    "    import os\n",
    "    import requests\n",
    "    import shutil\n",
    "    import zipfile\n",
    "\n",
    "    if not os.path.exists(out_folder):\n",
    "        os.makedirs(out_folder)\n",
    "\n",
    "    # Download the archive ; to do serialize this\n",
    "    for index, url in enumerate(archives_urls):\n",
    "        response = requests.get(url)\n",
    "\n",
    "        # Check if the request was successful (status code 200)\n",
    "        if response.status_code == 200:\n",
    "            # Get the filename from the response headers\n",
    "            content_disposition = response.headers.get(\"Content-Disposition\")\n",
    "            if content_disposition:\n",
    "                filename = content_disposition.split(\"filename=\")[1].strip('\"')\n",
    "            else:\n",
    "                # If no filename is provided in the headers, the endtrail of url\n",
    "                filename = url.split(\"/\")[-1]\n",
    "\n",
    "            # Create the path for the downloaded archive\n",
    "            archive_path = os.path.join(\n",
    "                out_folder, filename\n",
    "            )  # Adjust for different archive types\n",
    "\n",
    "            # Save the downloaded content to the archive file\n",
    "            with open(archive_path, \"wb\") as archive_file:\n",
    "                archive_file.write(response.content)\n",
    "\n",
    "            # Extract the archive\n",
    "            extract_folder = os.path.join(\n",
    "                out_folder, os.path.splitext(os.path.basename(archive_path))[0]\n",
    "            )\n",
    "            with zipfile.ZipFile(archive_path, \"r\") as zip_ref:\n",
    "                zip_ref.extractall(extract_folder)\n",
    "\n",
    "            # Optionally, delete the downloaded archive\n",
    "            os.remove(archive_path)\n",
    "\n",
    "            print(\n",
    "                f\"Archive downloaded, extracted, and deleted successfully to: {extract_folder}\"\n",
    "            )\n",
    "        else:\n",
    "            print(f\"Failed to download archive. Status code: {response.status_code}\")"
   ]
  },
  {
   "cell_type": "code",
   "execution_count": 129,
   "metadata": {},
   "outputs": [
    {
     "name": "stdout",
     "output_type": "stream",
     "text": [
      "{'Date': 'Fri, 26 Jan 2024 11:20:13 GMT', 'Server': 'Apache/2.4.10 (Debian)', 'Last-Modified': 'Fri, 10 Nov 2023 14:11:01 GMT', 'ETag': '\"15c12-609cce3e5a9c8\"', 'Accept-Ranges': 'bytes', 'Content-Length': '89106', 'Keep-Alive': 'timeout=5, max=100', 'Connection': 'Keep-Alive', 'Content-Type': 'application/zip'}\n",
      "Archive downloaded, extracted, and deleted successfully to: ./data/test/MMM_MMM_PolesZonage_0\n",
      "{'Date': 'Fri, 26 Jan 2024 11:20:14 GMT', 'Server': 'Apache/2.4.10 (Debian)', 'Last-Modified': 'Fri, 26 Jan 2024 08:33:04 GMT', 'ETag': '\"9c19-60fd525106f39\"', 'Accept-Ranges': 'bytes', 'Content-Length': '39961', 'Keep-Alive': 'timeout=5, max=100', 'Connection': 'Keep-Alive', 'Content-Type': 'application/zip'}\n",
      "Archive downloaded, extracted, and deleted successfully to: ./data/test/MMM_MMM_Contours\n",
      "{'Date': 'Fri, 26 Jan 2024 11:20:14 GMT', 'Server': 'Apache/2.4.10 (Debian)', 'Last-Modified': 'Thu, 01 Sep 2022 13:32:28 GMT', 'ETag': '\"16e0b81-5e79da50c4b7f\"', 'Accept-Ranges': 'bytes', 'Content-Length': '23989121', 'Keep-Alive': 'timeout=5, max=100', 'Connection': 'Keep-Alive', 'Content-Type': 'application/zip'}\n",
      "Archive downloaded, extracted, and deleted successfully to: ./data/test/MMM_MMM_OccupSol\n",
      "{'Date': 'Fri, 26 Jan 2024 11:20:36 GMT', 'Server': 'Apache/2.4.10 (Debian)', 'Last-Modified': 'Thu, 12 Oct 2023 12:29:03 GMT', 'ETag': '\"56d56b8-6078415d76c1e\"', 'Accept-Ranges': 'bytes', 'Content-Length': '91051704', 'Keep-Alive': 'timeout=5, max=100', 'Connection': 'Keep-Alive', 'Content-Type': 'application/zip'}\n",
      "Archive downloaded, extracted, and deleted successfully to: ./data/test/MMM_MMM_Cadastre\n"
     ]
    }
   ],
   "source": [
    "download_extract_delete_remote_archives(\n",
    "    archives_urls=[poles_zonage_3m_url, contour_3m_url, occsol_3m_url, cadastre_3m_url],\n",
    "    out_folder=\"./data/test\",\n",
    ")"
   ]
  },
  {
   "cell_type": "markdown",
   "metadata": {},
   "source": [
    "## Step 1 - Define grid functions utils\n"
   ]
  },
  {
   "cell_type": "code",
   "execution_count": 3,
   "metadata": {},
   "outputs": [],
   "source": [
    "from typing import List\n",
    "from pandera.typing import Index, DataFrame, Series\n",
    "from pandera.typing.geopandas import GeoDataFrame, GeoSeries\n",
    "import pandera as pa\n",
    "\n",
    "\n",
    "def create_grid(\n",
    "    gdf: None,\n",
    "    bounds: List[float] | None = None,\n",
    "    n_cells=10,\n",
    "    overlap=False,\n",
    "    crs=\"EPSG:4326\",\n",
    "):\n",
    "    \"\"\"Create square grid that covers a geodataframe area\n",
    "    or a fixed boundary with x-y coords\n",
    "    returns: a GeoDataFrame of grid polygons\n",
    "    see https://james-brennan.github.io/posts/fast_gridding_geopandas/\n",
    "    \"\"\"\n",
    "\n",
    "    import geopandas as gpd\n",
    "    import shapely\n",
    "\n",
    "    if bounds != None:\n",
    "        xmin, ymin, xmax, ymax = bounds\n",
    "    else:\n",
    "        xmin, ymin, xmax, ymax = gdf.total_bounds\n",
    "\n",
    "    # get cell size\n",
    "    cell_size = (xmax - xmin) / n_cells\n",
    "    # create the cells in a loop\n",
    "    grid_cells = []\n",
    "    for x0 in np.arange(xmin, xmax + cell_size, cell_size):\n",
    "        for y0 in np.arange(ymin, ymax + cell_size, cell_size):\n",
    "            x1 = x0 - cell_size\n",
    "            y1 = y0 + cell_size\n",
    "            poly = shapely.geometry.box(x0, y0, x1, y1)\n",
    "            # print (gdf.overlay(poly, how='intersection'))\n",
    "            grid_cells.append(poly)\n",
    "\n",
    "    cells = gpd.GeoDataFrame(grid_cells, columns=[\"geometry\"], crs=crs)\n",
    "    if overlap == True:\n",
    "        cols = [\"grid_id\", \"geometry\", \"grid_area\"]\n",
    "        cells = cells.sjoin(gdf, how=\"inner\").drop_duplicates(\"geometry\")\n",
    "    return cells\n",
    "\n",
    "\n",
    "def create_hex_grid(gdf=None, bounds=None, n_cells=10, overlap=False, crs=\"EPSG:4326\"):\n",
    "    \"\"\"Hexagonal grid over geometry.\n",
    "    See https://sabrinadchan.github.io/data-blog/building-a-hexagonal-cartogram.html\n",
    "    \"\"\"\n",
    "\n",
    "    from shapely.geometry import Polygon\n",
    "    import geopandas as gpd\n",
    "\n",
    "    if bounds != None:\n",
    "        xmin, ymin, xmax, ymax = bounds\n",
    "    else:\n",
    "        xmin, ymin, xmax, ymax = gdf.total_bounds\n",
    "\n",
    "    unit = (xmax - xmin) / n_cells\n",
    "    a = np.sin(np.pi / 3)\n",
    "    cols = np.arange(np.floor(xmin), np.ceil(xmax), 3 * unit)\n",
    "    rows = np.arange(np.floor(ymin) / a, np.ceil(ymax) / a, unit)\n",
    "\n",
    "    # print (len(cols))\n",
    "    hexagons = []\n",
    "    for x in cols:\n",
    "        for i, y in enumerate(rows):\n",
    "            if i % 2 == 0:\n",
    "                x0 = x\n",
    "            else:\n",
    "                x0 = x + 1.5 * unit\n",
    "\n",
    "            hexagons.append(\n",
    "                Polygon(\n",
    "                    [\n",
    "                        (x0, y * a),\n",
    "                        (x0 + unit, y * a),\n",
    "                        (x0 + (1.5 * unit), (y + unit) * a),\n",
    "                        (x0 + unit, (y + (2 * unit)) * a),\n",
    "                        (x0, (y + (2 * unit)) * a),\n",
    "                        (x0 - (0.5 * unit), (y + unit) * a),\n",
    "                    ]\n",
    "                )\n",
    "            )\n",
    "\n",
    "    grid = gpd.GeoDataFrame({\"geometry\": hexagons}, crs=crs)\n",
    "    grid[\"grid_area\"] = grid.area\n",
    "    grid = grid.reset_index().rename(columns={\"index\": \"grid_id\"})\n",
    "    if overlap == True:\n",
    "        cols = [\"grid_id\", \"geometry\", \"grid_area\"]\n",
    "        grid = grid.sjoin(gdf, how=\"inner\").drop_duplicates(\"geometry\")\n",
    "    return grid\n",
    "\n",
    "\n",
    "def create_size_based_grid(\n",
    "    gdf: None,\n",
    "    bounds: List[float] | None = None,\n",
    "    size=256,\n",
    "    overlap=True,\n",
    "    crs=\"EPSG:2154\",\n",
    "    epsg: int | None = None,\n",
    "):\n",
    "    \"\"\"Create square grid of fixed size (beware of crs unit) that covers a geodataframe area\n",
    "    or a fixed boundary with x-y coords\n",
    "    returns: a GeoDataFrame of grid polygons\n",
    "    \"\"\"\n",
    "    from shapely import Polygon\n",
    "    from geopandas import GeoDataFrame, sjoin\n",
    "    from numpy import arange\n",
    "\n",
    "    gdf_to_merge = gdf\n",
    "    gdf_to_merge[\"merge\"] = 1\n",
    "    gdf_merged = gdf_to_merge.dissolve(\"merge\")\n",
    "\n",
    "    if bounds != None:\n",
    "        xmin, ymin, xmax, ymax = bounds\n",
    "    else:\n",
    "        xmin, ymin, xmax, ymax = gdf_merged.total_bounds\n",
    "\n",
    "    cols = list(arange(xmin, xmax + size, size))\n",
    "    rows = list(arange(ymin, ymax + size, size))\n",
    "\n",
    "    polygons = []\n",
    "    for x in cols[:-1]:\n",
    "        for y in rows[:-1]:\n",
    "            polygons.append(\n",
    "                Polygon([(x, y), (x + size, y), (x + size, y + size), (x, y + size)])\n",
    "            )\n",
    "    if epsg != None:\n",
    "        grid = GeoDataFrame({\"geometry\": polygons}, epsg=epsg)\n",
    "    else:\n",
    "        grid = GeoDataFrame({\"geometry\": polygons}, crs=crs)\n",
    "    if overlap == True:\n",
    "        grid = sjoin(grid, gdf_merged, how=\"inner\", predicate=\"within\")\n",
    "    grid.insert(1, \"id\", range(1, 1 + len(grid)))\n",
    "    grid = grid.reset_index()\n",
    "    grid = grid[[\"id\", \"geometry\"]]\n",
    "    return grid"
   ]
  },
  {
   "cell_type": "markdown",
   "metadata": {},
   "source": [
    "##\n"
   ]
  },
  {
   "cell_type": "code",
   "execution_count": 253,
   "metadata": {},
   "outputs": [
    {
     "data": {
      "text/plain": [
       "<Axes: >"
      ]
     },
     "execution_count": 253,
     "metadata": {},
     "output_type": "execute_result"
    },
    {
     "data": {
      "image/png": "[encoded data removed]",
      "text/plain": [
       "<Figure size 640x480 with 1 Axes>"
      ]
     },
     "metadata": {},
     "output_type": "display_data"
    }
   ],
   "source": [
    "boundaries = gpd.read_file(\n",
    "    \"./data/3m/MMM_MMM_PolesZonage/MMM_MMM_PolesZonage.shp\", crs=\"EPSG:2154\"\n",
    ")\n",
    "castries = boundaries[boundaries[\"nom\"] == \"CASTRIES\"]\n",
    "castries.plot()"
   ]
  },
  {
   "cell_type": "code",
   "execution_count": 277,
   "metadata": {},
   "outputs": [
    {
     "name": "stderr",
     "output_type": "stream",
     "text": [
      "/Users/gaetan/.pyenv/versions/3.10.12/envs/3m-ai-dataprep-env/lib/python3.10/site-packages/geopandas/geodataframe.py:1543: SettingWithCopyWarning: \n",
      "A value is trying to be set on a copy of a slice from a DataFrame.\n",
      "Try using .loc[row_indexer,col_indexer] = value instead\n",
      "\n",
      "See the caveats in the documentation: https://pandas.pydata.org/pandas-docs/stable/user_guide/indexing.html#returning-a-view-versus-a-copy\n",
      "  super().__setitem__(key, value)\n"
     ]
    },
    {
     "data": {
      "text/html": [
       "<div>\n",
       "<style scoped>\n",
       "    .dataframe tbody tr th:only-of-type {\n",
       "        vertical-align: middle;\n",
       "    }\n",
       "\n",
       "    .dataframe tbody tr th {\n",
       "        vertical-align: top;\n",
       "    }\n",
       "\n",
       "    .dataframe thead th {\n",
       "        text-align: right;\n",
       "    }\n",
       "</style>\n",
       "<table border=\"1\" class=\"dataframe\">\n",
       "  <thead>\n",
       "    <tr style=\"text-align: right;\">\n",
       "      <th></th>\n",
       "      <th>id</th>\n",
       "      <th>geometry</th>\n",
       "    </tr>\n",
       "  </thead>\n",
       "  <tbody>\n",
       "    <tr>\n",
       "      <th>0</th>\n",
       "      <td>1</td>\n",
       "      <td>POLYGON ((775955.370 6288411.130, 776211.370 6...</td>\n",
       "    </tr>\n",
       "    <tr>\n",
       "      <th>1</th>\n",
       "      <td>2</td>\n",
       "      <td>POLYGON ((775955.370 6290203.130, 776211.370 6...</td>\n",
       "    </tr>\n",
       "    <tr>\n",
       "      <th>2</th>\n",
       "      <td>3</td>\n",
       "      <td>POLYGON ((775955.370 6290459.130, 776211.370 6...</td>\n",
       "    </tr>\n",
       "    <tr>\n",
       "      <th>3</th>\n",
       "      <td>4</td>\n",
       "      <td>POLYGON ((775955.370 6290715.130, 776211.370 6...</td>\n",
       "    </tr>\n",
       "    <tr>\n",
       "      <th>4</th>\n",
       "      <td>5</td>\n",
       "      <td>POLYGON ((775955.370 6290971.130, 776211.370 6...</td>\n",
       "    </tr>\n",
       "  </tbody>\n",
       "</table>\n",
       "</div>"
      ],
      "text/plain": [
       "   id                                           geometry\n",
       "0   1  POLYGON ((775955.370 6288411.130, 776211.370 6...\n",
       "1   2  POLYGON ((775955.370 6290203.130, 776211.370 6...\n",
       "2   3  POLYGON ((775955.370 6290459.130, 776211.370 6...\n",
       "3   4  POLYGON ((775955.370 6290715.130, 776211.370 6...\n",
       "4   5  POLYGON ((775955.370 6290971.130, 776211.370 6..."
      ]
     },
     "execution_count": 277,
     "metadata": {},
     "output_type": "execute_result"
    }
   ],
   "source": [
    "grid_castries = create_size_based_grid(gdf=castries, overlap=True)\n",
    "# grid_castries[\"size\"] = grid_castries[\"geometry\"].length / 4\n",
    "grid_castries.head()"
   ]
  },
  {
   "cell_type": "code",
   "execution_count": 269,
   "metadata": {},
   "outputs": [
    {
     "data": {
      "text/plain": [
       "(775325.019499997, 783560.730500003, 6284749.255999999, 6292094.483999999)"
      ]
     },
     "execution_count": 269,
     "metadata": {},
     "output_type": "execute_result"
    },
    {
     "data": {
      "image/png": "[encoded data removed]",
      "text/plain": [
       "<Figure size 1400x700 with 2 Axes>"
      ]
     },
     "metadata": {},
     "output_type": "display_data"
    }
   ],
   "source": [
    "fig, ax = plt.subplots(1, 2, figsize=(14, 7))\n",
    "axs = ax.flat\n",
    "castries.plot(ec=\"gray\", fc=\"none\", figsize=(10, 10), ax=axs[0])\n",
    "grid_castries.plot(fc=\"none\", ec=\"black\", ax=axs[0])\n",
    "axs[0].axis(\"off\")"
   ]
  },
  {
   "cell_type": "markdown",
   "metadata": {},
   "source": [
    "## Geoportail images helpers\n"
   ]
  },
  {
   "cell_type": "code",
   "execution_count": 4,
   "metadata": {},
   "outputs": [],
   "source": [
    "from typing import Union, List\n",
    "\n",
    "Num = Union[int, float]\n",
    "\n",
    "\n",
    "def stringify_bbox(bounds: List[Num]) -> str:\n",
    "    \"\"\"\n",
    "    Receive bounding box as a list and return it as a formatted string\n",
    "    \"\"\"\n",
    "    xmin, ymin, xmax, ymax = bounds\n",
    "    return f\"{xmin},{ymin},{xmax},{ymax}\""
   ]
  },
  {
   "cell_type": "code",
   "execution_count": 5,
   "metadata": {},
   "outputs": [],
   "source": [
    "def get_tile_url(\n",
    "    base_url=\"https://wxs.ign.fr/ortho/geoportail/r/wms\",\n",
    "    layer_name=\"ORTHOIMAGERY.ORTHOPHOTOS.BDORTHO\",\n",
    "    bbox=\"785802.3085941937752,6336806.404346071184,786208.1537742479704,6337311.468582574278\",\n",
    "    size=256,\n",
    ") -> str:\n",
    "    \"\"\"\n",
    "    Helper to format geoservices web expert URL\n",
    "\n",
    "    Args:\n",
    "      base_url:  \"https://wxs.ign.fr/ortho/geoportail/r/wms\" | \"https://wxs.ign.fr/orthohisto/geoportail/r/wms\"\n",
    "      layer_name: layer service; see IGN geoservices doc for details:\n",
    "              - Ortho https://geoservices.ign.fr/services-web-experts-ortho\n",
    "              - Orthohisto https://geoservices.ign.fr/services-web-experts-orthohisto\n",
    "      bbox: bounding box param, see `stringify_bbox` function to get formatted parrams from geopandas bounding box\n",
    "\n",
    "    Returns:\n",
    "      Formatted URI with params\n",
    "    \"\"\"\n",
    "    params = f\"SERVICE=WMS&VERSION=1.3.0&REQUEST=GetMap&BBOX={bbox}&CRS=EPSG:2154&WIDTH={size}&HEIGHT={size}&LAYERS={layer_name}&STYLES=&FORMAT=image/geotiff&DPI=72&MAP_RESOLUTION=72&FORMAT_OPTIONS=dpi:72\"\n",
    "    return f\"{base_url}?{params}\""
   ]
  },
  {
   "cell_type": "code",
   "execution_count": 6,
   "metadata": {},
   "outputs": [],
   "source": [
    "def download_image_from_url(\n",
    "    url=None, index=None, out_path=\"./downloads/tiles\", default_images_folder=\"default\"\n",
    "):\n",
    "    import time\n",
    "    from urllib.parse import urlparse, parse_qs\n",
    "    import requests\n",
    "\n",
    "    if url is None:\n",
    "        raise ValueError(\"url param s required\")\n",
    "    t0 = time.time()\n",
    "    parsed_url = urlparse(url)\n",
    "    layer_param = parse_qs(parsed_url.query)[\"LAYERS\"][0]\n",
    "    bbox_param = parse_qs(parsed_url.query)[\"BBOX\"][0]\n",
    "    bbox_tuple = tuple(map(float, bbox_param.split(\",\")))\n",
    "\n",
    "    if layer_param in [\n",
    "        \"ORTHOIMAGERY.ORTHOPHOTOS.IRC\",\n",
    "        \"ORTHOIMAGERY.ORTHOPHOTOS.IRC-EXPRESS.2021\",\n",
    "    ]:\n",
    "        out_dir = f\"{out_path}/irc\"\n",
    "    elif layer_param in [\n",
    "        \"ORTHOIMAGERY.ORTHOPHOTOS.BDORTHO\",\n",
    "        \"ORTHOIMAGERY.ORTHOPHOTOS.ORTHO-EXPRESS.2021\",\n",
    "    ]:\n",
    "        out_dir = f\"{out_path}/ortho\"\n",
    "    else:\n",
    "        out_dir = f\"{out_path}/{default_images_folder}\"\n",
    "\n",
    "    try:\n",
    "        r = requests.get(url)\n",
    "        if r.status_code == 200:\n",
    "            if index is None:\n",
    "                image_path = f\"{out_dir}/image_{hash(bbox_tuple)}.tiff\"\n",
    "            else:\n",
    "                image_path = f\"{out_dir}/image_{index}.tiff\"\n",
    "            with open(image_path, \"wb\") as f:\n",
    "                f.write(r.content)\n",
    "            return (image_path, time.time() - t0, url)\n",
    "        else:\n",
    "            return (None, None, url)\n",
    "    except Exception as e:\n",
    "        print(\"Exception in download_url():\", e)"
   ]
  },
  {
   "cell_type": "markdown",
   "metadata": {},
   "source": [
    "## Convert large geofiles to parquet\n"
   ]
  },
  {
   "cell_type": "code",
   "execution_count": null,
   "metadata": {},
   "outputs": [],
   "source": [
    "occsol_gdf = gpd.read_file(\n",
    "    \"./data/3m/MMM_MMM_OccupSol/MMM_MMM_OccupSol.shp\", crs=\"EPSG:2154\"\n",
    ")"
   ]
  },
  {
   "cell_type": "code",
   "execution_count": 3,
   "metadata": {},
   "outputs": [],
   "source": [
    "occsol_gdf.to_parquet(\"./data/parquet/clc_3m.parquet\")"
   ]
  },
  {
   "cell_type": "code",
   "execution_count": 7,
   "metadata": {},
   "outputs": [],
   "source": [
    "clc_3m_gdf = gpd.read_parquet(\"./data/parquet/clc_3m.parquet\")"
   ]
  },
  {
   "cell_type": "code",
   "execution_count": 10,
   "metadata": {},
   "outputs": [
    {
     "name": "stdout",
     "output_type": "stream",
     "text": [
      "EPSG:2154\n"
     ]
    }
   ],
   "source": [
    "clc_3m_gdf.to_crs(\"EPSG:2154\", inplace=True)\n",
    "print(clc_3m_gdf.crs)"
   ]
  },
  {
   "cell_type": "code",
   "execution_count": 11,
   "metadata": {},
   "outputs": [
    {
     "data": {
      "text/html": [
       "<div>\n",
       "<style scoped>\n",
       "    .dataframe tbody tr th:only-of-type {\n",
       "        vertical-align: middle;\n",
       "    }\n",
       "\n",
       "    .dataframe tbody tr th {\n",
       "        vertical-align: top;\n",
       "    }\n",
       "\n",
       "    .dataframe thead th {\n",
       "        text-align: right;\n",
       "    }\n",
       "</style>\n",
       "<table border=\"1\" class=\"dataframe\">\n",
       "  <thead>\n",
       "    <tr style=\"text-align: right;\">\n",
       "      <th></th>\n",
       "      <th>id</th>\n",
       "      <th>geometry</th>\n",
       "      <th>size</th>\n",
       "    </tr>\n",
       "  </thead>\n",
       "  <tbody>\n",
       "    <tr>\n",
       "      <th>0</th>\n",
       "      <td>1</td>\n",
       "      <td>POLYGON ((740235.900 6250053.600, 740491.900 6...</td>\n",
       "      <td>256.0</td>\n",
       "    </tr>\n",
       "    <tr>\n",
       "      <th>1</th>\n",
       "      <td>2</td>\n",
       "      <td>POLYGON ((740235.900 6250309.600, 740491.900 6...</td>\n",
       "      <td>256.0</td>\n",
       "    </tr>\n",
       "    <tr>\n",
       "      <th>2</th>\n",
       "      <td>3</td>\n",
       "      <td>POLYGON ((740491.900 6249797.600, 740747.900 6...</td>\n",
       "      <td>256.0</td>\n",
       "    </tr>\n",
       "    <tr>\n",
       "      <th>3</th>\n",
       "      <td>4</td>\n",
       "      <td>POLYGON ((740491.900 6250053.600, 740747.900 6...</td>\n",
       "      <td>256.0</td>\n",
       "    </tr>\n",
       "    <tr>\n",
       "      <th>4</th>\n",
       "      <td>5</td>\n",
       "      <td>POLYGON ((740491.900 6250309.600, 740747.900 6...</td>\n",
       "      <td>256.0</td>\n",
       "    </tr>\n",
       "  </tbody>\n",
       "</table>\n",
       "</div>"
      ],
      "text/plain": [
       "   id                                           geometry   size\n",
       "0   1  POLYGON ((740235.900 6250053.600, 740491.900 6...  256.0\n",
       "1   2  POLYGON ((740235.900 6250309.600, 740491.900 6...  256.0\n",
       "2   3  POLYGON ((740491.900 6249797.600, 740747.900 6...  256.0\n",
       "3   4  POLYGON ((740491.900 6250053.600, 740747.900 6...  256.0\n",
       "4   5  POLYGON ((740491.900 6250309.600, 740747.900 6...  256.0"
      ]
     },
     "execution_count": 11,
     "metadata": {},
     "output_type": "execute_result"
    }
   ],
   "source": [
    "grid = create_size_based_grid(gdf=clc_3m_gdf, overlap=True)\n",
    "grid[\"size\"] = grid[\"geometry\"].length / 4\n",
    "grid.head()"
   ]
  },
  {
   "cell_type": "code",
   "execution_count": 12,
   "metadata": {},
   "outputs": [
    {
     "data": {
      "text/plain": [
       "21714"
      ]
     },
     "execution_count": 12,
     "metadata": {},
     "output_type": "execute_result"
    }
   ],
   "source": [
    "len(grid)"
   ]
  },
  {
   "cell_type": "code",
   "execution_count": 272,
   "metadata": {},
   "outputs": [
    {
     "data": {
      "text/plain": [
       "(737432.699999982, 799103.0999999819, 6242629.600002656, 6304581.600002656)"
      ]
     },
     "execution_count": 272,
     "metadata": {},
     "output_type": "execute_result"
    },
    {
     "data": {
      "image/png": "[encoded data removed]",
      "text/plain": [
       "<Figure size 1400x700 with 2 Axes>"
      ]
     },
     "metadata": {},
     "output_type": "display_data"
    }
   ],
   "source": [
    "import matplotlib.pyplot as plt\n",
    "\n",
    "fig, ax = plt.subplots(1, 2, figsize=(14, 7))\n",
    "axs = ax.flat\n",
    "clc_3m_gdf.plot(ec=\"gray\", fc=\"none\", figsize=(10, 10), ax=axs[0])\n",
    "grid.plot(fc=\"none\", ec=\"black\", ax=axs[1])\n",
    "axs[0].axis(\"off\")\n",
    "axs[1].axis(\"off\")"
   ]
  },
  {
   "cell_type": "code",
   "execution_count": null,
   "metadata": {},
   "outputs": [],
   "source": [
    "# OBSOLOTE Code -\n",
    "# for row in grid.head(10).itertuples():\n",
    "#     url = get_tile_url(bbox=f\"{row.minx},{row.miny},{row.maxx},{row.maxy}\")\n",
    "#     res = download_image_from_url(url=url, index=row.Index)\n",
    "#     print(res)"
   ]
  },
  {
   "cell_type": "code",
   "execution_count": 13,
   "metadata": {},
   "outputs": [
    {
     "data": {
      "text/plain": [
       "Index(['c1994_niv1', 'lib94_niv1', 'c1994_niv2', 'lib94_niv2', 'c2004_niv1',\n",
       "       'lib04_niv1', 'c2004_niv2', 'lib04_niv2', 'c2004_niv3', 'lib04_niv3',\n",
       "       'c2008_niv1', 'lib08_niv1', 'c2008_niv2', 'lib08_niv2', 'c2008_niv3',\n",
       "       'lib08_niv3', 'c2010_niv1', 'lib10_niv1', 'c2010_niv2', 'lib10_niv2',\n",
       "       'c2010_niv3', 'lib10_niv3', 'c2012_niv1', 'lib12_niv1', 'c2012_niv2',\n",
       "       'lib12_niv2', 'c2012_niv3', 'lib12_niv3', 'c2015_niv1', 'lib15_niv1',\n",
       "       'c2015_niv2', 'lib15_niv2', 'c2015_niv3', 'lib15_niv3', 'c2015_niv4',\n",
       "       'lib15_niv4', 'c2017_niv1', 'lib17_niv1', 'c2017_niv2', 'lib17_niv2',\n",
       "       'c2017_niv3', 'lib17_niv3', 'c2017_niv4', 'lib17_niv4', 'c2019_niv1',\n",
       "       'lib19_niv1', 'c2019_niv2', 'lib19_niv2', 'c2019_niv3', 'lib19_niv3',\n",
       "       'c2019_niv4', 'lib19_niv4', 'c2021_niv1', 'lib21_niv1', 'c2021_niv2',\n",
       "       'lib21_niv2', 'c2021_niv3', 'lib21_niv3', 'c2021_niv4', 'lib21_niv4',\n",
       "       'milieu1994', 'milieu2004', 'milieu2008', 'milieu2010', 'milieu2012',\n",
       "       'milieu2015', 'milieu2017', 'milieu2019', 'milieu2021', 'geometry',\n",
       "       'merge'],\n",
       "      dtype='object')"
      ]
     },
     "execution_count": 13,
     "metadata": {},
     "output_type": "execute_result"
    }
   ],
   "source": [
    "clc_3m_gdf.columns"
   ]
  },
  {
   "cell_type": "code",
   "execution_count": 14,
   "metadata": {},
   "outputs": [
    {
     "data": {
      "text/html": [
       "<div>\n",
       "<style scoped>\n",
       "    .dataframe tbody tr th:only-of-type {\n",
       "        vertical-align: middle;\n",
       "    }\n",
       "\n",
       "    .dataframe tbody tr th {\n",
       "        vertical-align: top;\n",
       "    }\n",
       "\n",
       "    .dataframe thead th {\n",
       "        text-align: right;\n",
       "    }\n",
       "</style>\n",
       "<table border=\"1\" class=\"dataframe\">\n",
       "  <thead>\n",
       "    <tr style=\"text-align: right;\">\n",
       "      <th></th>\n",
       "      <th>c2021_niv1</th>\n",
       "      <th>lib21_niv1</th>\n",
       "      <th>c2021_niv4</th>\n",
       "      <th>lib21_niv4</th>\n",
       "      <th>geometry</th>\n",
       "    </tr>\n",
       "  </thead>\n",
       "  <tbody>\n",
       "    <tr>\n",
       "      <th>0</th>\n",
       "      <td>7</td>\n",
       "      <td>Espaces naturels non boisés</td>\n",
       "      <td>7820</td>\n",
       "      <td>Marais maritimes</td>\n",
       "      <td>POLYGON ((742269.535 6248240.552, 742250.300 6...</td>\n",
       "    </tr>\n",
       "    <tr>\n",
       "      <th>1</th>\n",
       "      <td>5</td>\n",
       "      <td>Espaces agricoles</td>\n",
       "      <td>5121</td>\n",
       "      <td>Espaces libres urbains</td>\n",
       "      <td>POLYGON ((783953.823 6291883.226, 783966.394 6...</td>\n",
       "    </tr>\n",
       "    <tr>\n",
       "      <th>2</th>\n",
       "      <td>5</td>\n",
       "      <td>Espaces agricoles</td>\n",
       "      <td>5121</td>\n",
       "      <td>Espaces libres urbains</td>\n",
       "      <td>POLYGON ((781205.235 6284279.038, 781260.980 6...</td>\n",
       "    </tr>\n",
       "    <tr>\n",
       "      <th>3</th>\n",
       "      <td>8</td>\n",
       "      <td>Eau</td>\n",
       "      <td>8220</td>\n",
       "      <td>Plans d'eau et lagunes littorales</td>\n",
       "      <td>POLYGON ((780145.613 6277024.020, 780063.022 6...</td>\n",
       "    </tr>\n",
       "    <tr>\n",
       "      <th>4</th>\n",
       "      <td>5</td>\n",
       "      <td>Espaces agricoles</td>\n",
       "      <td>5121</td>\n",
       "      <td>Espaces libres urbains</td>\n",
       "      <td>POLYGON ((758879.856 6272901.789, 758892.140 6...</td>\n",
       "    </tr>\n",
       "    <tr>\n",
       "      <th>5</th>\n",
       "      <td>5</td>\n",
       "      <td>Espaces agricoles</td>\n",
       "      <td>5221</td>\n",
       "      <td>Vergers en exploitation</td>\n",
       "      <td>POLYGON ((785921.828 6282821.166, 785954.456 6...</td>\n",
       "    </tr>\n",
       "    <tr>\n",
       "      <th>6</th>\n",
       "      <td>5</td>\n",
       "      <td>Espaces agricoles</td>\n",
       "      <td>5221</td>\n",
       "      <td>Vergers en exploitation</td>\n",
       "      <td>POLYGON ((760408.100 6274080.600, 760403.112 6...</td>\n",
       "    </tr>\n",
       "    <tr>\n",
       "      <th>7</th>\n",
       "      <td>6</td>\n",
       "      <td>Espaces boisés</td>\n",
       "      <td>6110</td>\n",
       "      <td>Feuillus mésophiles dominants</td>\n",
       "      <td>POLYGON ((744068.463 6254143.414, 744011.575 6...</td>\n",
       "    </tr>\n",
       "    <tr>\n",
       "      <th>8</th>\n",
       "      <td>8</td>\n",
       "      <td>Eau</td>\n",
       "      <td>8300</td>\n",
       "      <td>Mer, océan et estuaires</td>\n",
       "      <td>POLYGON ((757311.864 6255758.885, 757309.379 6...</td>\n",
       "    </tr>\n",
       "    <tr>\n",
       "      <th>9</th>\n",
       "      <td>5</td>\n",
       "      <td>Espaces agricoles</td>\n",
       "      <td>5140</td>\n",
       "      <td>Prairies</td>\n",
       "      <td>POLYGON ((758260.437 6271489.652, 758257.173 6...</td>\n",
       "    </tr>\n",
       "    <tr>\n",
       "      <th>10</th>\n",
       "      <td>8</td>\n",
       "      <td>Eau</td>\n",
       "      <td>8210</td>\n",
       "      <td>Plans d’eau douce</td>\n",
       "      <td>POLYGON ((750614.887 6272923.560, 750660.415 6...</td>\n",
       "    </tr>\n",
       "    <tr>\n",
       "      <th>11</th>\n",
       "      <td>5</td>\n",
       "      <td>Espaces agricoles</td>\n",
       "      <td>5131</td>\n",
       "      <td>Cultures annuelles</td>\n",
       "      <td>POLYGON ((762779.796 6271812.527, 762813.156 6...</td>\n",
       "    </tr>\n",
       "    <tr>\n",
       "      <th>12</th>\n",
       "      <td>5</td>\n",
       "      <td>Espaces agricoles</td>\n",
       "      <td>5140</td>\n",
       "      <td>Prairies</td>\n",
       "      <td>POLYGON ((756135.058 6270198.722, 756115.697 6...</td>\n",
       "    </tr>\n",
       "    <tr>\n",
       "      <th>13</th>\n",
       "      <td>2</td>\n",
       "      <td>Surfaces industrielles ou commerciales et infr...</td>\n",
       "      <td>2111</td>\n",
       "      <td>Zones industrielles</td>\n",
       "      <td>POLYGON ((770134.885 6275211.804, 770099.111 6...</td>\n",
       "    </tr>\n",
       "    <tr>\n",
       "      <th>14</th>\n",
       "      <td>5</td>\n",
       "      <td>Espaces agricoles</td>\n",
       "      <td>5211</td>\n",
       "      <td>Vignes en exploitation</td>\n",
       "      <td>POLYGON ((783495.201 6299745.729, 783561.768 6...</td>\n",
       "    </tr>\n",
       "    <tr>\n",
       "      <th>15</th>\n",
       "      <td>1</td>\n",
       "      <td>Espaces urbanisés</td>\n",
       "      <td>1121</td>\n",
       "      <td>Habitat discontinu pavillonnaire dense</td>\n",
       "      <td>POLYGON ((780722.098 6294678.385, 780721.497 6...</td>\n",
       "    </tr>\n",
       "    <tr>\n",
       "      <th>16</th>\n",
       "      <td>7</td>\n",
       "      <td>Espaces naturels non boisés</td>\n",
       "      <td>7100</td>\n",
       "      <td>Landes et fourrés</td>\n",
       "      <td>POLYGON ((786841.696 6288153.548, 786890.819 6...</td>\n",
       "    </tr>\n",
       "    <tr>\n",
       "      <th>17</th>\n",
       "      <td>5</td>\n",
       "      <td>Espaces agricoles</td>\n",
       "      <td>5140</td>\n",
       "      <td>Prairies</td>\n",
       "      <td>POLYGON ((789960.810 6292452.935, 790102.874 6...</td>\n",
       "    </tr>\n",
       "    <tr>\n",
       "      <th>18</th>\n",
       "      <td>5</td>\n",
       "      <td>Espaces agricoles</td>\n",
       "      <td>5131</td>\n",
       "      <td>Cultures annuelles</td>\n",
       "      <td>POLYGON ((779098.925 6290704.206, 779110.710 6...</td>\n",
       "    </tr>\n",
       "    <tr>\n",
       "      <th>19</th>\n",
       "      <td>5</td>\n",
       "      <td>Espaces agricoles</td>\n",
       "      <td>5121</td>\n",
       "      <td>Espaces libres urbains</td>\n",
       "      <td>POLYGON ((775231.972 6278064.325, 775253.847 6...</td>\n",
       "    </tr>\n",
       "    <tr>\n",
       "      <th>20</th>\n",
       "      <td>5</td>\n",
       "      <td>Espaces agricoles</td>\n",
       "      <td>5121</td>\n",
       "      <td>Espaces libres urbains</td>\n",
       "      <td>POLYGON ((781809.791 6279916.092, 781849.165 6...</td>\n",
       "    </tr>\n",
       "    <tr>\n",
       "      <th>21</th>\n",
       "      <td>2</td>\n",
       "      <td>Surfaces industrielles ou commerciales et infr...</td>\n",
       "      <td>2211</td>\n",
       "      <td>Réseau routier principal et espaces associés</td>\n",
       "      <td>POLYGON ((784997.550 6286524.234, 784953.998 6...</td>\n",
       "    </tr>\n",
       "    <tr>\n",
       "      <th>22</th>\n",
       "      <td>1</td>\n",
       "      <td>Espaces urbanisés</td>\n",
       "      <td>1141</td>\n",
       "      <td>Habitat discontinu collectif</td>\n",
       "      <td>POLYGON ((773931.461 6284459.010, 773948.589 6...</td>\n",
       "    </tr>\n",
       "    <tr>\n",
       "      <th>23</th>\n",
       "      <td>5</td>\n",
       "      <td>Espaces agricoles</td>\n",
       "      <td>5121</td>\n",
       "      <td>Espaces libres urbains</td>\n",
       "      <td>POLYGON ((742462.145 6250502.972, 742492.161 6...</td>\n",
       "    </tr>\n",
       "    <tr>\n",
       "      <th>24</th>\n",
       "      <td>4</td>\n",
       "      <td>Espaces récréatifs</td>\n",
       "      <td>4121</td>\n",
       "      <td>Autres parcs et jardins</td>\n",
       "      <td>POLYGON ((773469.289 6276654.713, 773467.563 6...</td>\n",
       "    </tr>\n",
       "  </tbody>\n",
       "</table>\n",
       "</div>"
      ],
      "text/plain": [
       "    c2021_niv1                                         lib21_niv1  c2021_niv4  \\\n",
       "0            7                        Espaces naturels non boisés        7820   \n",
       "1            5                                  Espaces agricoles        5121   \n",
       "2            5                                  Espaces agricoles        5121   \n",
       "3            8                                                Eau        8220   \n",
       "4            5                                  Espaces agricoles        5121   \n",
       "5            5                                  Espaces agricoles        5221   \n",
       "6            5                                  Espaces agricoles        5221   \n",
       "7            6                                     Espaces boisés        6110   \n",
       "8            8                                                Eau        8300   \n",
       "9            5                                  Espaces agricoles        5140   \n",
       "10           8                                                Eau        8210   \n",
       "11           5                                  Espaces agricoles        5131   \n",
       "12           5                                  Espaces agricoles        5140   \n",
       "13           2  Surfaces industrielles ou commerciales et infr...        2111   \n",
       "14           5                                  Espaces agricoles        5211   \n",
       "15           1                                  Espaces urbanisés        1121   \n",
       "16           7                        Espaces naturels non boisés        7100   \n",
       "17           5                                  Espaces agricoles        5140   \n",
       "18           5                                  Espaces agricoles        5131   \n",
       "19           5                                  Espaces agricoles        5121   \n",
       "20           5                                  Espaces agricoles        5121   \n",
       "21           2  Surfaces industrielles ou commerciales et infr...        2211   \n",
       "22           1                                  Espaces urbanisés        1141   \n",
       "23           5                                  Espaces agricoles        5121   \n",
       "24           4                                 Espaces récréatifs        4121   \n",
       "\n",
       "                                      lib21_niv4  \\\n",
       "0                               Marais maritimes   \n",
       "1                         Espaces libres urbains   \n",
       "2                         Espaces libres urbains   \n",
       "3              Plans d'eau et lagunes littorales   \n",
       "4                         Espaces libres urbains   \n",
       "5                        Vergers en exploitation   \n",
       "6                        Vergers en exploitation   \n",
       "7                  Feuillus mésophiles dominants   \n",
       "8                        Mer, océan et estuaires   \n",
       "9                                       Prairies   \n",
       "10                             Plans d’eau douce   \n",
       "11                            Cultures annuelles   \n",
       "12                                      Prairies   \n",
       "13                           Zones industrielles   \n",
       "14                        Vignes en exploitation   \n",
       "15        Habitat discontinu pavillonnaire dense   \n",
       "16                             Landes et fourrés   \n",
       "17                                      Prairies   \n",
       "18                            Cultures annuelles   \n",
       "19                        Espaces libres urbains   \n",
       "20                        Espaces libres urbains   \n",
       "21  Réseau routier principal et espaces associés   \n",
       "22                  Habitat discontinu collectif   \n",
       "23                        Espaces libres urbains   \n",
       "24                       Autres parcs et jardins   \n",
       "\n",
       "                                             geometry  \n",
       "0   POLYGON ((742269.535 6248240.552, 742250.300 6...  \n",
       "1   POLYGON ((783953.823 6291883.226, 783966.394 6...  \n",
       "2   POLYGON ((781205.235 6284279.038, 781260.980 6...  \n",
       "3   POLYGON ((780145.613 6277024.020, 780063.022 6...  \n",
       "4   POLYGON ((758879.856 6272901.789, 758892.140 6...  \n",
       "5   POLYGON ((785921.828 6282821.166, 785954.456 6...  \n",
       "6   POLYGON ((760408.100 6274080.600, 760403.112 6...  \n",
       "7   POLYGON ((744068.463 6254143.414, 744011.575 6...  \n",
       "8   POLYGON ((757311.864 6255758.885, 757309.379 6...  \n",
       "9   POLYGON ((758260.437 6271489.652, 758257.173 6...  \n",
       "10  POLYGON ((750614.887 6272923.560, 750660.415 6...  \n",
       "11  POLYGON ((762779.796 6271812.527, 762813.156 6...  \n",
       "12  POLYGON ((756135.058 6270198.722, 756115.697 6...  \n",
       "13  POLYGON ((770134.885 6275211.804, 770099.111 6...  \n",
       "14  POLYGON ((783495.201 6299745.729, 783561.768 6...  \n",
       "15  POLYGON ((780722.098 6294678.385, 780721.497 6...  \n",
       "16  POLYGON ((786841.696 6288153.548, 786890.819 6...  \n",
       "17  POLYGON ((789960.810 6292452.935, 790102.874 6...  \n",
       "18  POLYGON ((779098.925 6290704.206, 779110.710 6...  \n",
       "19  POLYGON ((775231.972 6278064.325, 775253.847 6...  \n",
       "20  POLYGON ((781809.791 6279916.092, 781849.165 6...  \n",
       "21  POLYGON ((784997.550 6286524.234, 784953.998 6...  \n",
       "22  POLYGON ((773931.461 6284459.010, 773948.589 6...  \n",
       "23  POLYGON ((742462.145 6250502.972, 742492.161 6...  \n",
       "24  POLYGON ((773469.289 6276654.713, 773467.563 6...  "
      ]
     },
     "execution_count": 14,
     "metadata": {},
     "output_type": "execute_result"
    }
   ],
   "source": [
    "clc_21_niv4_3m_gdf = clc_3m_gdf[\n",
    "    [\"c2021_niv1\", \"lib21_niv1\", \"c2021_niv4\", \"lib21_niv4\", \"geometry\"]\n",
    "]\n",
    "clc_21_niv4_3m_gdf.head(25)"
   ]
  },
  {
   "cell_type": "markdown",
   "metadata": {},
   "source": [
    "## Add CLC:EUNIS mapping + Stats\n"
   ]
  },
  {
   "cell_type": "code",
   "execution_count": 30,
   "metadata": {},
   "outputs": [
    {
     "name": "stderr",
     "output_type": "stream",
     "text": [
      "/Users/gaetan/.pyenv/versions/3.10.12/envs/3m-ai-dataprep-env/lib/python3.10/site-packages/geopandas/geodataframe.py:1543: SettingWithCopyWarning: \n",
      "A value is trying to be set on a copy of a slice from a DataFrame.\n",
      "Try using .loc[row_indexer,col_indexer] = value instead\n",
      "\n",
      "See the caveats in the documentation: https://pandas.pydata.org/pandas-docs/stable/user_guide/indexing.html#returning-a-view-versus-a-copy\n",
      "  super().__setitem__(key, value)\n"
     ]
    },
    {
     "data": {
      "text/html": [
       "<div>\n",
       "<style scoped>\n",
       "    .dataframe tbody tr th:only-of-type {\n",
       "        vertical-align: middle;\n",
       "    }\n",
       "\n",
       "    .dataframe tbody tr th {\n",
       "        vertical-align: top;\n",
       "    }\n",
       "\n",
       "    .dataframe thead th {\n",
       "        text-align: right;\n",
       "    }\n",
       "</style>\n",
       "<table border=\"1\" class=\"dataframe\">\n",
       "  <thead>\n",
       "    <tr style=\"text-align: right;\">\n",
       "      <th></th>\n",
       "      <th>geometry</th>\n",
       "      <th>eunis_niv1_label</th>\n",
       "      <th>CODE_EUNIS_niv1</th>\n",
       "      <th>c2021_niv4</th>\n",
       "      <th>c2021_niv1</th>\n",
       "      <th>area_ha</th>\n",
       "    </tr>\n",
       "  </thead>\n",
       "  <tbody>\n",
       "    <tr>\n",
       "      <th>0</th>\n",
       "      <td>POLYGON ((742269.535 6248240.552, 742250.300 6...</td>\n",
       "      <td>2</td>\n",
       "      <td>B</td>\n",
       "      <td>7820</td>\n",
       "      <td>7</td>\n",
       "      <td>0.005211</td>\n",
       "    </tr>\n",
       "    <tr>\n",
       "      <th>1</th>\n",
       "      <td>POLYGON ((767352.525 6268848.993, 767361.873 6...</td>\n",
       "      <td>2</td>\n",
       "      <td>B</td>\n",
       "      <td>7820</td>\n",
       "      <td>7</td>\n",
       "      <td>0.113166</td>\n",
       "    </tr>\n",
       "    <tr>\n",
       "      <th>2</th>\n",
       "      <td>POLYGON ((763211.640 6263361.392, 763236.168 6...</td>\n",
       "      <td>2</td>\n",
       "      <td>B</td>\n",
       "      <td>7820</td>\n",
       "      <td>7</td>\n",
       "      <td>1.269219</td>\n",
       "    </tr>\n",
       "    <tr>\n",
       "      <th>3</th>\n",
       "      <td>POLYGON ((766041.394 6268039.741, 766037.300 6...</td>\n",
       "      <td>2</td>\n",
       "      <td>B</td>\n",
       "      <td>7820</td>\n",
       "      <td>7</td>\n",
       "      <td>5.224858</td>\n",
       "    </tr>\n",
       "    <tr>\n",
       "      <th>4</th>\n",
       "      <td>POLYGON ((768466.461 6265323.085, 768466.452 6...</td>\n",
       "      <td>2</td>\n",
       "      <td>B</td>\n",
       "      <td>7820</td>\n",
       "      <td>7</td>\n",
       "      <td>0.041889</td>\n",
       "    </tr>\n",
       "  </tbody>\n",
       "</table>\n",
       "</div>"
      ],
      "text/plain": [
       "                                            geometry  eunis_niv1_label  \\\n",
       "0  POLYGON ((742269.535 6248240.552, 742250.300 6...                 2   \n",
       "1  POLYGON ((767352.525 6268848.993, 767361.873 6...                 2   \n",
       "2  POLYGON ((763211.640 6263361.392, 763236.168 6...                 2   \n",
       "3  POLYGON ((766041.394 6268039.741, 766037.300 6...                 2   \n",
       "4  POLYGON ((768466.461 6265323.085, 768466.452 6...                 2   \n",
       "\n",
       "  CODE_EUNIS_niv1  c2021_niv4  c2021_niv1   area_ha  \n",
       "0               B        7820           7  0.005211  \n",
       "1               B        7820           7  0.113166  \n",
       "2               B        7820           7  1.269219  \n",
       "3               B        7820           7  5.224858  \n",
       "4               B        7820           7  0.041889  "
      ]
     },
     "execution_count": 30,
     "metadata": {},
     "output_type": "execute_result"
    }
   ],
   "source": [
    "def letter_to_ordinal(letter: str, case=\"up\"):\n",
    "    try:\n",
    "        if case == \"up\":\n",
    "            return ord(letter) - 64\n",
    "        elif case == \"down\":\n",
    "            return ord(letter) - 96\n",
    "        else:\n",
    "            return None\n",
    "    except Exception as err:\n",
    "        print(f\"Unexpected {err=}, {type(err)=}\")\n",
    "        raise\n",
    "\n",
    "\n",
    "eunis_mapping_df = pd.read_excel(\"./data_ns/CORINE_LAND_COVER_MONTPELLIER.xlsx\")\n",
    "eunis_mapping_df[\"eunis_niv1_label\"] = eunis_mapping_df.apply(\n",
    "    lambda x: letter_to_ordinal(x[\"CODE_EUNIS_niv1\"]), axis=1\n",
    ")\n",
    "map_df = eunis_mapping_df[[\"c2021_niv4\", \"eunis_niv1_label\"]]\n",
    "gdf = clc_21_niv4_3m_gdf.merge(eunis_mapping_df, on=\"c2021_niv4\", suffixes=(\"\", \"_map\"))\n",
    "eunis_niv1_3m_gdf = gdf[\n",
    "    [\"geometry\", \"eunis_niv1_label\", \"CODE_EUNIS_niv1\", \"c2021_niv4\", \"c2021_niv1\"]\n",
    "]\n",
    "eunis_niv1_3m_gdf[\"area_ha\"] = eunis_niv1_3m_gdf[\"geometry\"].area / 10**4\n",
    "eunis_niv1_3m_gdf.reset_index()\n",
    "eunis_niv1_3m_gdf.head()"
   ]
  },
  {
   "cell_type": "code",
   "execution_count": 31,
   "metadata": {},
   "outputs": [
    {
     "data": {
      "text/plain": [
       "eunis_niv1_label  CODE_EUNIS_niv1  c2021_niv4  c2021_niv1\n",
       "1                 A                8300        8             109\n",
       "2                 B                7400        7              57\n",
       "                                   7820        7             152\n",
       "                                   8220        8             300\n",
       "3                 C                7810        7              30\n",
       "                                                            ... \n",
       "10                J                4222        4              33\n",
       "                                   5122        5               2\n",
       "24                X                4111        4             496\n",
       "                                   4121        4              33\n",
       "                                   5111        5             104\n",
       "Name: eunis_niv1_label, Length: 80, dtype: int64"
      ]
     },
     "execution_count": 31,
     "metadata": {},
     "output_type": "execute_result"
    }
   ],
   "source": [
    "df = eunis_niv1_3m_gdf.groupby(\n",
    "    [\"eunis_niv1_label\", \"CODE_EUNIS_niv1\", \"c2021_niv4\", \"c2021_niv1\"]\n",
    ")[\"eunis_niv1_label\"].count()\n",
    "df.to_csv(\"./export/eunis1-clc4_2021_3m.csv\")\n",
    "df.to_excel(\"./export/eunis1-clc4_2021_3m.xlsx\")\n",
    "df"
   ]
  },
  {
   "cell_type": "code",
   "execution_count": null,
   "metadata": {},
   "outputs": [],
   "source": [
    "def plot_area_and_grid(area_gdf, grid_gdf, title=\"Geoplot 1\"):\n",
    "    import matplotlib.pyplot as plt\n",
    "\n",
    "    fig, ax = plt.subplots(figsize=(14, 7))\n",
    "    area_gdf.plot(ec=\"gray\", fc=\"none\", figsize=(10, 10), ax=ax)\n",
    "    grid_gdf.plot(fc=\"none\", ec=\"black\", ax=ax)\n",
    "    ax.set_title(title)\n",
    "\n",
    "\n",
    "boundaries = gpd.read_file(\n",
    "    \"./data/3m/MMM_MMM_PolesZonage/MMM_MMM_PolesZonage.shp\", crs=\"EPSG:2154\"\n",
    ")\n",
    "with pd.ExcelWriter(\"./export/eunis1-clc4_2021_3m_classes.xlsx\") as writer:\n",
    "    for row in boundaries.itertuples():\n",
    "        clipped = eunis_niv1_3m_gdf.clip(row.geometry)\n",
    "        clipped_2154 = clipped.to_crs(\"EPSG:2154\")\n",
    "        grid = create_size_based_grid(gdf=clipped_2154, overlap=True)\n",
    "        plot_area_and_grid(clipped_2154, grid, row.nom)\n",
    "        df = clipped_2154.groupby([\"eunis_niv1_label\", \"CODE_EUNIS_niv1\"])[\n",
    "            \"area_ha\"\n",
    "        ].sum()\n",
    "        df.to_excel(writer, sheet_name=f\"N={len(grid)} -> {row.nom}\")"
   ]
  },
  {
   "cell_type": "code",
   "execution_count": 43,
   "metadata": {},
   "outputs": [
    {
     "data": {
      "text/plain": [
       "eunis_niv1_label  CODE_EUNIS_niv1\n",
       "1                 A                     28.471588\n",
       "2                 B                  16884.973974\n",
       "3                 C                   1300.097890\n",
       "5                 E                  14484.555560\n",
       "6                 F                  42313.237196\n",
       "7                 G                  24896.413914\n",
       "8                 H                   1346.755720\n",
       "9                 I                  14258.538114\n",
       "10                J                  29261.641159\n",
       "24                X                    747.635087\n",
       "Name: area_ha, dtype: float64"
      ]
     },
     "execution_count": 43,
     "metadata": {},
     "output_type": "execute_result"
    }
   ],
   "source": [
    "df = eunis_niv1_3m_gdf.groupby([\"eunis_niv1_label\", \"CODE_EUNIS_niv1\"])[\"area_ha\"].sum()\n",
    "df.to_csv(\"./export/eunis1-clc4_2021_3m.csv\")\n",
    "df.to_excel(\"./export/eunis1-clc4_2021_3m.xlsx\")\n",
    "df"
   ]
  },
  {
   "cell_type": "markdown",
   "metadata": {},
   "source": [
    "## Prepare training data\n"
   ]
  },
  {
   "cell_type": "code",
   "execution_count": 214,
   "metadata": {},
   "outputs": [],
   "source": [
    "def labels_to_mask_with_geocube(\n",
    "    gdf, index, size=256, resolution=1, out_path=\"./datasets/masks\"\n",
    "):\n",
    "    from geocube.api.core import make_geocube\n",
    "\n",
    "    # Using GeoCube to rasterize the Vector\n",
    "    mask_geocube = make_geocube(\n",
    "        vector_data=gdf,\n",
    "        measurements=[\"c2021_niv4\"],\n",
    "        resolution=(-resolution, resolution),\n",
    "        fill=0,\n",
    "    )\n",
    "\n",
    "    # Save raster census raster\n",
    "    mask_geocube.rio.to_raster(f\"{out_path}/mask_{index}.tiff\")\n",
    "    return f\"{out_path}/mask_{index}.tiff\""
   ]
  },
  {
   "cell_type": "code",
   "execution_count": 219,
   "metadata": {},
   "outputs": [],
   "source": [
    "# TODO: refact this function to allow multithread processing\n",
    "\n",
    "\n",
    "def create_4_band_training_raster(gdf, index, out_path=\"./datasets/images/training\"):\n",
    "    import rasterio\n",
    "    from rasterio.plot import reshape_as_raster, reshape_as_image\n",
    "\n",
    "    (minx, miny, maxx, maxy) = gdf.total_bounds\n",
    "    ortho_url = get_tile_url(\n",
    "        base_url=\"https://wxs.ign.fr/orthohisto/geoportail/r/wms\",\n",
    "        layer_name=\"ORTHOIMAGERY.ORTHOPHOTOS.ORTHO-EXPRESS.2021\",\n",
    "        bbox=f\"{minx},{miny},{maxx},{maxy}\",\n",
    "    )\n",
    "    irc_url = get_tile_url(\n",
    "        base_url=\"https://wxs.ign.fr/orthohisto/geoportail/r/wms\",\n",
    "        layer_name=\"ORTHOIMAGERY.ORTHOPHOTOS.IRC-EXPRESS.2021\",\n",
    "        bbox=f\"{minx},{miny},{maxx},{maxy}\",\n",
    "    )\n",
    "    (ortho_path, ortho_time, d_ortho_url) = download_image_from_url(\n",
    "        url=ortho_url, index=index, out_path=\"./datasets/images\"\n",
    "    )\n",
    "    (irc_path, irc_time, d_irc_url) = download_image_from_url(\n",
    "        url=irc_url, index=index, out_path=\"./datasets/images\"\n",
    "    )\n",
    "\n",
    "    train_path = f\"{out_path}/image_{index}.tif\"\n",
    "    # Open the RGB image\n",
    "    with rasterio.open(ortho_path) as rgb_src:\n",
    "        # Read RGB data and metadata\n",
    "        rgb_data = rgb_src.read()\n",
    "        metadata = rgb_src.meta.copy()\n",
    "\n",
    "    # Open the nir image\n",
    "    with rasterio.open(irc_path) as infrared_src:\n",
    "        # Read infrared data\n",
    "        infrared_data = infrared_src.read(2)\n",
    "\n",
    "    # Combine RGB and infrared data into a four-band array\n",
    "    four_band_data = [rgb_data[0], rgb_data[1], rgb_data[2], infrared_data]\n",
    "    # Update metadata for the new four-band raster\n",
    "    metadata.update(count=4)\n",
    "\n",
    "    # Create a new raster file and write the four-band data\n",
    "    with rasterio.open(train_path, \"w\", **metadata) as dst:\n",
    "        for i, band in enumerate(four_band_data, start=1):\n",
    "            dst.write(band, i)\n",
    "\n",
    "    return (ortho_path, irc_path, train_path)"
   ]
  },
  {
   "cell_type": "code",
   "execution_count": 217,
   "metadata": {},
   "outputs": [],
   "source": [
    "def plot_trio(ortho, irc, mask):\n",
    "    import rasterio\n",
    "    import matplotlib.pyplot as plt\n",
    "\n",
    "    # Paths to the three raster images\n",
    "    image_paths = [ortho, irc, mask]\n",
    "\n",
    "    # Create a figure with three subplots\n",
    "    fig, axes = plt.subplots(1, 3, figsize=(15, 5))\n",
    "\n",
    "    # Loop through the image paths and plot each image\n",
    "    for i, image_path in enumerate(image_paths):\n",
    "        with rasterio.open(image_path) as src:\n",
    "            # Read the image data\n",
    "            img_data = src.read()\n",
    "\n",
    "            # Plot the image using imshow\n",
    "            axes[i].imshow(\n",
    "                img_data.transpose((1, 2, 0))\n",
    "            )  # Transpose to (height, width, bands) for RGB images\n",
    "            axes[i].set_title(f\"Image {i + 1}\")\n",
    "\n",
    "    # Adjust layout and show the plot\n",
    "    plt.tight_layout()\n",
    "    plt.show()"
   ]
  },
  {
   "cell_type": "code",
   "execution_count": null,
   "metadata": {},
   "outputs": [],
   "source": [
    "for index, geometry in grid_castries.loc[200:210][\"geometry\"].items():\n",
    "    clipped = clc_21_niv4_3m_gdf.clip(geometry)\n",
    "    mask_path = labels_to_mask_with_geocube(clipped, index)\n",
    "    (ortho_path, irc_path, train_path) = create_4_band_training_raster(clipped, index)\n",
    "    plot_trio(ortho_path, irc_path, mask_path)"
   ]
  },
  {
   "cell_type": "code",
   "execution_count": 279,
   "metadata": {},
   "outputs": [
    {
     "data": {
      "text/plain": [
       "308"
      ]
     },
     "execution_count": 279,
     "metadata": {},
     "output_type": "execute_result"
    }
   ],
   "source": [
    "len(grid_castries)"
   ]
  },
  {
   "cell_type": "code",
   "execution_count": 281,
   "metadata": {},
   "outputs": [],
   "source": [
    "def letter_to_ordinal(letter: str, case=\"up\"):\n",
    "    try:\n",
    "        if case == \"down\":\n",
    "            return ord(letter) - 64\n",
    "        else:\n",
    "            return ord(letter) - 96\n",
    "    except Exception as err:\n",
    "        print(f\"Unexpected {err=}, {type(err)=}\")\n",
    "        raise"
   ]
  },
  {
   "cell_type": "markdown",
   "metadata": {},
   "source": [
    "## Generate training data in HDF5\n"
   ]
  },
  {
   "cell_type": "code",
   "execution_count": null,
   "metadata": {},
   "outputs": [],
   "source": []
  },
  {
   "cell_type": "markdown",
   "metadata": {},
   "source": [
    "## Generate Preview Stats files\n"
   ]
  },
  {
   "cell_type": "code",
   "execution_count": 148,
   "metadata": {},
   "outputs": [
    {
     "name": "stderr",
     "output_type": "stream",
     "text": [
      "/Users/gaetan/.pyenv/versions/3.10.12/envs/3m-ai-dataprep-env/lib/python3.10/site-packages/geopandas/geodataframe.py:1543: SettingWithCopyWarning: \n",
      "A value is trying to be set on a copy of a slice from a DataFrame.\n",
      "Try using .loc[row_indexer,col_indexer] = value instead\n",
      "\n",
      "See the caveats in the documentation: https://pandas.pydata.org/pandas-docs/stable/user_guide/indexing.html#returning-a-view-versus-a-copy\n",
      "  super().__setitem__(key, value)\n"
     ]
    }
   ],
   "source": [
    "clc_21_niv4_3m_gdf[\"area_ha\"] = clc_21_niv4_3m_gdf[\"geometry\"].area / 10**4"
   ]
  },
  {
   "cell_type": "code",
   "execution_count": 157,
   "metadata": {},
   "outputs": [
    {
     "name": "stderr",
     "output_type": "stream",
     "text": [
      "/Users/gaetan/.pyenv/versions/3.10.12/envs/3m-ai-dataprep-env/lib/python3.10/site-packages/openpyxl/workbook/child.py:99: UserWarning: Title is more than 31 characters. Some applications may not be able to read the file\n",
      "  warnings.warn(\"Title is more than 31 characters. Some applications may not be able to read the file\")\n",
      "/Users/gaetan/.pyenv/versions/3.10.12/envs/3m-ai-dataprep-env/lib/python3.10/site-packages/openpyxl/workbook/child.py:99: UserWarning: Title is more than 31 characters. Some applications may not be able to read the file\n",
      "  warnings.warn(\"Title is more than 31 characters. Some applications may not be able to read the file\")\n",
      "/Users/gaetan/.pyenv/versions/3.10.12/envs/3m-ai-dataprep-env/lib/python3.10/site-packages/openpyxl/workbook/child.py:99: UserWarning: Title is more than 31 characters. Some applications may not be able to read the file\n",
      "  warnings.warn(\"Title is more than 31 characters. Some applications may not be able to read the file\")\n",
      "/Users/gaetan/.pyenv/versions/3.10.12/envs/3m-ai-dataprep-env/lib/python3.10/site-packages/openpyxl/workbook/child.py:99: UserWarning: Title is more than 31 characters. Some applications may not be able to read the file\n",
      "  warnings.warn(\"Title is more than 31 characters. Some applications may not be able to read the file\")\n"
     ]
    }
   ],
   "source": [
    "with pd.ExcelWriter(\"./export/clc_21_niv4_3m_classes.xlsx\") as writer:\n",
    "    for row in boundaries.itertuples():\n",
    "        clipped = clc_21_niv4_3m_gdf.clip(row.geometry)\n",
    "        clipped_2154 = clipped.to_crs(\"EPSG:2154\")\n",
    "        grid_castries = create_size_based_grid(gdf=clipped_2154, overlap=True)\n",
    "        df = clipped_2154.groupby(\n",
    "            [\"c2021_niv1\", \"lib21_niv1\", \"c2021_niv4\", \"lib21_niv4\"]\n",
    "        )[\"area_ha\"].sum()\n",
    "        df.to_excel(writer, sheet_name=f\"N={len(grid_castries)} -> {row.nom}\")"
   ]
  }
 ],
 "metadata": {
  "kernelspec": {
   "display_name": "3m-ai-dataprep-env",
   "language": "python",
   "name": "python3"
  },
  "language_info": {
   "codemirror_mode": {
    "name": "ipython",
    "version": 3
   },
   "file_extension": ".py",
   "mimetype": "text/x-python",
   "name": "python",
   "nbconvert_exporter": "python",
   "pygments_lexer": "ipython3",
   "version": "3.10.12"
  }
 },
 "nbformat": 4,
 "nbformat_minor": 2
}
