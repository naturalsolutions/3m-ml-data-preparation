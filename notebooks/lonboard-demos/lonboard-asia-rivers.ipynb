{
 "cells": [
  {
   "cell_type": "code",
   "execution_count": 2,
   "metadata": {},
   "outputs": [],
   "source": [
    "import geopandas as gpd\n",
    "from palettable.colorbrewer.sequential import Blues_8\n",
    "\n",
    "from lonboard import Map, PathLayer\n",
    "from lonboard.colormap import apply_continuous_cmap"
   ]
  },
  {
   "cell_type": "code",
   "execution_count": 3,
   "metadata": {},
   "outputs": [
    {
     "data": {
      "text/plain": [
       "Strahler\n",
       "1    80503\n",
       "2    39100\n",
       "3    19655\n",
       "4     8960\n",
       "5     4547\n",
       "6     1901\n",
       "7      484\n",
       "Name: count, dtype: int64"
      ]
     },
     "execution_count": 3,
     "metadata": {},
     "output_type": "execute_result"
    }
   ],
   "source": [
    "url = \"https://storage.googleapis.com/fao-maps-catalog-data/geonetwork/aquamaps/rivers_asia_37331.zip\"\n",
    "gdf = gpd.read_file(url, engine=\"pyogrio\")\n",
    "gdf[\"Strahler\"].value_counts()"
   ]
  },
  {
   "cell_type": "code",
   "execution_count": 3,
   "metadata": {},
   "outputs": [
    {
     "data": {
      "application/vnd.jupyter.widget-view+json": {
       "model_id": "7e00a175575644fc8b26ebc8d1eecf55",
       "version_major": 2,
       "version_minor": 0
      },
      "text/plain": [
       "Map(layers=[PathLayer(get_color=<pyarrow.lib.FixedSizeListArray object at 0x12cd7c280>\n",
       "[\n",
       "  [\n",
       "    8,\n",
       "    69,\n",
       "  …"
      ]
     },
     "execution_count": 3,
     "metadata": {},
     "output_type": "execute_result"
    }
   ],
   "source": [
    "layer = PathLayer.from_geopandas(gdf)\n",
    "layer.get_color = apply_continuous_cmap(gdf[\"Strahler\"] / 7, Blues_8)\n",
    "layer.get_width = gdf[\"Strahler\"]\n",
    "layer.width_scale = 3000\n",
    "layer.width_min_pixels = 0.5\n",
    "\n",
    "m = Map(layers=[layer])\n",
    "m"
   ]
  }
 ],
 "metadata": {
  "kernelspec": {
   "display_name": "3m-ai-dataprep-env",
   "language": "python",
   "name": "python3"
  },
  "language_info": {
   "codemirror_mode": {
    "name": "ipython",
    "version": 3
   },
   "file_extension": ".py",
   "mimetype": "text/x-python",
   "name": "python",
   "nbconvert_exporter": "python",
   "pygments_lexer": "ipython3",
   "version": "3.10.12"
  }
 },
 "nbformat": 4,
 "nbformat_minor": 2
}
