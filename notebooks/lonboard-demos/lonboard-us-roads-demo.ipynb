{
 "cells": [
  {
   "cell_type": "code",
   "execution_count": 1,
   "metadata": {},
   "outputs": [],
   "source": [
    "import geopandas as gpd\n",
    "import palettable.colorbrewer.diverging\n",
    "\n",
    "from lonboard import Map, PathLayer\n",
    "from lonboard.colormap import apply_continuous_cmap"
   ]
  },
  {
   "cell_type": "code",
   "execution_count": null,
   "metadata": {},
   "outputs": [],
   "source": []
  },
  {
   "cell_type": "code",
   "execution_count": 2,
   "metadata": {},
   "outputs": [],
   "source": [
    "url = \"https://naciscdn.org/naturalearth/10m/cultural/ne_10m_roads_north_america.zip\""
   ]
  },
  {
   "cell_type": "code",
   "execution_count": 3,
   "metadata": {},
   "outputs": [],
   "source": [
    "gdf = gpd.read_file(url, engine=\"pyogrio\")"
   ]
  },
  {
   "cell_type": "code",
   "execution_count": 4,
   "metadata": {},
   "outputs": [
    {
     "data": {
      "text/html": [
       "<div>\n",
       "<style scoped>\n",
       "    .dataframe tbody tr th:only-of-type {\n",
       "        vertical-align: middle;\n",
       "    }\n",
       "\n",
       "    .dataframe tbody tr th {\n",
       "        vertical-align: top;\n",
       "    }\n",
       "\n",
       "    .dataframe thead th {\n",
       "        text-align: right;\n",
       "    }\n",
       "</style>\n",
       "<table border=\"1\" class=\"dataframe\">\n",
       "  <thead>\n",
       "    <tr style=\"text-align: right;\">\n",
       "      <th></th>\n",
       "      <th>prefix</th>\n",
       "      <th>number</th>\n",
       "      <th>class</th>\n",
       "      <th>type</th>\n",
       "      <th>divided</th>\n",
       "      <th>country</th>\n",
       "      <th>state</th>\n",
       "      <th>note</th>\n",
       "      <th>scalerank</th>\n",
       "      <th>uident</th>\n",
       "      <th>length</th>\n",
       "      <th>rank</th>\n",
       "      <th>continent</th>\n",
       "      <th>geometry</th>\n",
       "    </tr>\n",
       "  </thead>\n",
       "  <tbody>\n",
       "    <tr>\n",
       "      <th>0</th>\n",
       "      <td>None</td>\n",
       "      <td>None</td>\n",
       "      <td>Other</td>\n",
       "      <td>Unpaved</td>\n",
       "      <td>None</td>\n",
       "      <td>United States</td>\n",
       "      <td>California</td>\n",
       "      <td>None</td>\n",
       "      <td>12</td>\n",
       "      <td>0</td>\n",
       "      <td>10.373500</td>\n",
       "      <td>0</td>\n",
       "      <td>North America</td>\n",
       "      <td>LINESTRING (-119.63954 37.85634, -119.63954 37...</td>\n",
       "    </tr>\n",
       "    <tr>\n",
       "      <th>1</th>\n",
       "      <td>None</td>\n",
       "      <td>None</td>\n",
       "      <td>Other</td>\n",
       "      <td>Other Paved</td>\n",
       "      <td>None</td>\n",
       "      <td>United States</td>\n",
       "      <td>Nevada</td>\n",
       "      <td>None</td>\n",
       "      <td>12</td>\n",
       "      <td>1</td>\n",
       "      <td>2.307760</td>\n",
       "      <td>0</td>\n",
       "      <td>North America</td>\n",
       "      <td>LINESTRING (-119.76779 39.14514, -119.74707 39...</td>\n",
       "    </tr>\n",
       "    <tr>\n",
       "      <th>2</th>\n",
       "      <td>None</td>\n",
       "      <td>S2</td>\n",
       "      <td>Other</td>\n",
       "      <td>Other Paved</td>\n",
       "      <td>None</td>\n",
       "      <td>Mexico</td>\n",
       "      <td>None</td>\n",
       "      <td>None</td>\n",
       "      <td>11</td>\n",
       "      <td>2</td>\n",
       "      <td>92.178100</td>\n",
       "      <td>-1</td>\n",
       "      <td>North America</td>\n",
       "      <td>LINESTRING (-116.47485 33.09658, -116.46246 33...</td>\n",
       "    </tr>\n",
       "    <tr>\n",
       "      <th>3</th>\n",
       "      <td>None</td>\n",
       "      <td>S1</td>\n",
       "      <td>Other</td>\n",
       "      <td>Other Paved</td>\n",
       "      <td>None</td>\n",
       "      <td>United States</td>\n",
       "      <td>California</td>\n",
       "      <td>None</td>\n",
       "      <td>11</td>\n",
       "      <td>3</td>\n",
       "      <td>46.124100</td>\n",
       "      <td>0</td>\n",
       "      <td>North America</td>\n",
       "      <td>LINESTRING (-116.56070 33.01205, -116.55359 33...</td>\n",
       "    </tr>\n",
       "    <tr>\n",
       "      <th>4</th>\n",
       "      <td>None</td>\n",
       "      <td>S1</td>\n",
       "      <td>Other</td>\n",
       "      <td>Secondary</td>\n",
       "      <td>Undivided</td>\n",
       "      <td>United States</td>\n",
       "      <td>California</td>\n",
       "      <td>None</td>\n",
       "      <td>10</td>\n",
       "      <td>4</td>\n",
       "      <td>0.305463</td>\n",
       "      <td>0</td>\n",
       "      <td>North America</td>\n",
       "      <td>LINESTRING (-116.50827 32.81225, -116.50820 32...</td>\n",
       "    </tr>\n",
       "  </tbody>\n",
       "</table>\n",
       "</div>"
      ],
      "text/plain": [
       "  prefix number  class         type    divided        country       state  \\\n",
       "0   None   None  Other      Unpaved       None  United States  California   \n",
       "1   None   None  Other  Other Paved       None  United States      Nevada   \n",
       "2   None     S2  Other  Other Paved       None         Mexico        None   \n",
       "3   None     S1  Other  Other Paved       None  United States  California   \n",
       "4   None     S1  Other    Secondary  Undivided  United States  California   \n",
       "\n",
       "   note  scalerank  uident     length  rank      continent  \\\n",
       "0  None         12       0  10.373500     0  North America   \n",
       "1  None         12       1   2.307760     0  North America   \n",
       "2  None         11       2  92.178100    -1  North America   \n",
       "3  None         11       3  46.124100     0  North America   \n",
       "4  None         10       4   0.305463     0  North America   \n",
       "\n",
       "                                            geometry  \n",
       "0  LINESTRING (-119.63954 37.85634, -119.63954 37...  \n",
       "1  LINESTRING (-119.76779 39.14514, -119.74707 39...  \n",
       "2  LINESTRING (-116.47485 33.09658, -116.46246 33...  \n",
       "3  LINESTRING (-116.56070 33.01205, -116.55359 33...  \n",
       "4  LINESTRING (-116.50827 32.81225, -116.50820 32...  "
      ]
     },
     "execution_count": 4,
     "metadata": {},
     "output_type": "execute_result"
    }
   ],
   "source": [
    "gdf.head()"
   ]
  },
  {
   "cell_type": "code",
   "execution_count": 5,
   "metadata": {},
   "outputs": [],
   "source": [
    "gdf = gdf[gdf[\"state\"] == \"California\"]"
   ]
  },
  {
   "cell_type": "code",
   "execution_count": 6,
   "metadata": {},
   "outputs": [
    {
     "data": {
      "application/vnd.jupyter.widget-view+json": {
       "model_id": "f5c8d30884794878872b36d6a299b495",
       "version_major": 2,
       "version_minor": 0
      },
      "text/plain": [
       "Map(layers=[PathLayer(table=pyarrow.Table\n",
       "prefix: string\n",
       "number: string\n",
       "class: string\n",
       "type: string\n",
       "divided: st…"
      ]
     },
     "execution_count": 6,
     "metadata": {},
     "output_type": "execute_result"
    }
   ],
   "source": [
    "layer = PathLayer.from_geopandas(gdf, width_min_pixels=0.8)\n",
    "map_ = Map(layers=[layer])\n",
    "map_"
   ]
  },
  {
   "cell_type": "code",
   "execution_count": 7,
   "metadata": {},
   "outputs": [],
   "source": [
    "layer.get_color = [200, 0, 200]"
   ]
  },
  {
   "cell_type": "code",
   "execution_count": 8,
   "metadata": {},
   "outputs": [
    {
     "data": {
      "text/plain": [
       "scalerank\n",
       "3       19\n",
       "4       93\n",
       "5       35\n",
       "6       94\n",
       "7      178\n",
       "8      122\n",
       "9        1\n",
       "10     237\n",
       "11     541\n",
       "12    1562\n",
       "Name: count, dtype: int64"
      ]
     },
     "execution_count": 8,
     "metadata": {},
     "output_type": "execute_result"
    }
   ],
   "source": [
    "gdf[\"scalerank\"].value_counts().sort_index()"
   ]
  },
  {
   "cell_type": "code",
   "execution_count": 9,
   "metadata": {},
   "outputs": [],
   "source": [
    "normalized_scale_rank = (gdf[\"scalerank\"] - 3) / 9"
   ]
  },
  {
   "cell_type": "code",
   "execution_count": 10,
   "metadata": {},
   "outputs": [
    {
     "data": {
      "text/plain": [
       "(0.0, 1.0)"
      ]
     },
     "execution_count": 10,
     "metadata": {},
     "output_type": "execute_result"
    }
   ],
   "source": [
    "normalized_scale_rank.min(), normalized_scale_rank.max()"
   ]
  },
  {
   "cell_type": "code",
   "execution_count": 11,
   "metadata": {},
   "outputs": [],
   "source": [
    "cmap = palettable.colorbrewer.diverging.PuOr_10"
   ]
  },
  {
   "cell_type": "code",
   "execution_count": 12,
   "metadata": {},
   "outputs": [
    {
     "data": {
      "image/png": "[encoded data removed]",
      "text/html": [
       "<div style=\"vertical-align: middle;\"><strong>PuOr</strong> </div><div class=\"cmap\"><img alt=\"PuOr colormap\" title=\"PuOr\" style=\"border: 1px solid #555;\" src=\"data:image/png;base64,iVBORw0KGgoAAAANSUhEUgAAAgAAAABACAYAAABsv8+/AAAAE3RFWHRUaXRsZQBQdU9yIGNvbG9ybWFw1Lg2NQAAABl0RVh0RGVzY3JpcHRpb24AUHVPciBjb2xvcm1hcF8Kpq0AAAAwdEVYdEF1dGhvcgBNYXRwbG90bGliIHYzLjguMiwgaHR0cHM6Ly9tYXRwbG90bGliLm9yZw8V3hIAAAAydEVYdFNvZnR3YXJlAE1hdHBsb3RsaWIgdjMuOC4yLCBodHRwczovL21hdHBsb3RsaWIub3JnIbNBNQAAAgRJREFUeJzt1kFy2yAAhlFQNr1TD9eTS3QR5IyxsdEknS7+9zYMCIG8SOarf37/aqWUUmsrpZSy1bI01sV98/2v7/v++ZN92zmvS/NtO89/Pf9f5z3OP96M2/28Lu67+ryunrO2b+vj7Qf388ttfTL/9r439/30d5TP+44+tlL7OKy37fn68PwY3p+d8/B+Gd5fvm88pw739fOOz7//o7U+L5P1trheLu7/R+f094/j6GN7Om+T9a/nz9fP/W2y/tPnvP3Ova/vw/59eH7bfz6frQ/fvV98ftyfP65f/t52zve7+df663lr+2R99v7aPY/r1+45x/7fDQBIIgAAIJAAAIBAAgAAAgkAAAgkAAAgkAAAgEACAAACCQAACCQAACCQAACAQAIAAAIJAAAIJAAAIJAAAIBAAgAAAgkAAAgkAAAgkAAAgEACAAACCQAACCQAACCQAACAQAIAAAIJAAAIJAAAIJAAAIBAAgAAAgkAAAgkAAAgkAAAgEACAAACCQAACCQAACCQAACAQAIAAAIJAAAIJAAAIJAAAIBAAgAAAgkAAAgkAAAgkAAAgEACAAACCQAACCQAACCQAACAQAIAAAIJAAAIJAAAIJAAAIBAAgAAAgkAAAgkAAAgkAAAgEACAAACCQAACCQAACCQAACAQAIAAAIJAAAIJAAAIJAAAIBAfwF0sXUGDv0RXAAAAABJRU5ErkJggg==\"></div><div style=\"vertical-align: middle; max-width: 514px; display: flex; justify-content: space-between;\"><div style=\"float: left;\"><div title=\"#7f3b08ff\" style=\"display: inline-block; width: 1em; height: 1em; margin: 0; vertical-align: middle; border: 1px solid #555; background-color: #7f3b08ff;\"></div> under</div><div style=\"margin: 0 auto; display: inline-block;\">bad <div title=\"#00000000\" style=\"display: inline-block; width: 1em; height: 1em; margin: 0; vertical-align: middle; border: 1px solid #555; background-color: #00000000;\"></div></div><div style=\"float: right;\">over <div title=\"#2d004bff\" style=\"display: inline-block; width: 1em; height: 1em; margin: 0; vertical-align: middle; border: 1px solid #555; background-color: #2d004bff;\"></div></div>"
      ],
      "text/plain": [
       "<matplotlib.colors.LinearSegmentedColormap at 0x12841acb0>"
      ]
     },
     "execution_count": 12,
     "metadata": {},
     "output_type": "execute_result"
    }
   ],
   "source": [
    "cmap.mpl_colormap"
   ]
  },
  {
   "cell_type": "code",
   "execution_count": 13,
   "metadata": {},
   "outputs": [],
   "source": [
    "layer.get_color = apply_continuous_cmap(\n",
    "    normalized_scale_rank, palettable.colorbrewer.diverging.PuOr_10, alpha=0.8\n",
    ")"
   ]
  },
  {
   "cell_type": "code",
   "execution_count": 14,
   "metadata": {},
   "outputs": [
    {
     "data": {
      "application/vnd.jupyter.widget-view+json": {
       "model_id": "f5c8d30884794878872b36d6a299b495",
       "version_major": 2,
       "version_minor": 0
      },
      "text/plain": [
       "Map(layers=[PathLayer(get_color=<pyarrow.lib.FixedSizeListArray object at 0x12a9b36a0>\n",
       "[\n",
       "  [\n",
       "    45,\n",
       "    0,\n",
       "  …"
      ]
     },
     "execution_count": 14,
     "metadata": {},
     "output_type": "execute_result"
    }
   ],
   "source": [
    "map_"
   ]
  }
 ],
 "metadata": {
  "kernelspec": {
   "display_name": "3m-ai-dataprep-env",
   "language": "python",
   "name": "python3"
  },
  "language_info": {
   "codemirror_mode": {
    "name": "ipython",
    "version": 3
   },
   "file_extension": ".py",
   "mimetype": "text/x-python",
   "name": "python",
   "nbconvert_exporter": "python",
   "pygments_lexer": "ipython3",
   "version": "3.10.12"
  }
 },
 "nbformat": 4,
 "nbformat_minor": 2
}
