{
 "cells": [
  {
   "cell_type": "code",
   "execution_count": 1,
   "id": "b54d9d8e",
   "metadata": {},
   "outputs": [],
   "source": [
    "# env pdal windows\n",
    "import rasterio\n",
    "from osgeo import gdal"
   ]
  },
  {
   "cell_type": "code",
   "execution_count": 2,
   "id": "b1c3cf85",
   "metadata": {},
   "outputs": [],
   "source": [
    "# merger les tifs de CHM si besoin d'utiliser plusieurs fichiers pour couvrir 1 zone\n",
    "def mergeTiles(PATH_TO_DIR):\n",
    "    print(\"Assemblage d'images tif\")\n",
    "    ortho_irc_list = glob(PATH_TO_DIR + \"/*.tif\")\n",
    "    vrt = gdal.BuildVRT(PATH_TO_DIR + \"/mergedIRC.vrt\", ortho_irc_list)\n",
    "    gdal.Translate(PATH_TO_DIR + \"/merged-chm.tif\", vrt, xRes=0.5, yRes=-0.5)\n",
    "    return True"
   ]
  },
  {
   "cell_type": "code",
   "execution_count": 3,
   "id": "1fb297ae",
   "metadata": {},
   "outputs": [
    {
     "name": "stdout",
     "output_type": "stream",
     "text": [
      "Assemblage d'images tif\n"
     ]
    },
    {
     "data": {
      "text/plain": [
       "True"
      ]
     },
     "execution_count": 3,
     "metadata": {},
     "output_type": "execute_result"
    }
   ],
   "source": [
    "# List of files to be merged\n",
    "from pathlib import Path\n",
    "from glob import glob\n",
    "\n",
    "\n",
    "PATH_TO_DIR = './lidar_data/image_6'\n",
    "\n",
    "mergeTiles(PATH_TO_DIR)\n",
    "\n",
    "\n",
    "\n"
   ]
  },
  {
   "cell_type": "code",
   "execution_count": 4,
   "id": "00081269",
   "metadata": {},
   "outputs": [],
   "source": [
    "# reprojection 2154 -> 3857\n",
    "merged_chm = './lidar_data/image_6/merged-chm.tif'\n",
    "reprojected_chm = './lidar_data/image_6/merged-chm_3857.tif'\n",
    "\n",
    "from rasterio.warp import calculate_default_transform, reproject, Resampling\n",
    "\n",
    "dst_crs = 'EPSG:3857'\n",
    "\n",
    "with rasterio.open(merged_chm) as src:\n",
    "    transform, width, height = calculate_default_transform(\n",
    "        src.crs, dst_crs, src.width, src.height, *src.bounds)\n",
    "    kwargs = src.meta.copy()\n",
    "    kwargs.update({\n",
    "        'crs': dst_crs,\n",
    "        'transform': transform,\n",
    "        'width': width,\n",
    "        'height': height\n",
    "    })\n",
    "\n",
    "    with rasterio.open(reprojected_chm, 'w', **kwargs) as dst:\n",
    "        for i in range(1, src.count + 1):\n",
    "            reproject(\n",
    "                source=rasterio.band(src, i),\n",
    "                destination=rasterio.band(dst, i),\n",
    "                src_transform=src.transform,\n",
    "                src_crs=src.crs,\n",
    "                dst_transform=transform,\n",
    "                dst_crs=dst_crs,\n",
    "                resampling=Resampling.nearest)"
   ]
  },
  {
   "cell_type": "code",
   "execution_count": 6,
   "id": "289bab68",
   "metadata": {},
   "outputs": [],
   "source": [
    "\n",
    "#file_to_cut = './lidar_data/image_2/im2_merged-chm.tif'\n",
    "file_to_cut = './lidar_data/image_6/merged-chm_3857.tif'\n",
    "file_reference = '../dataset_4bands/image_6/image_6.tif'\n",
    "outfile = '../dataset_4bands/image_6/chm_image_6.tif'"
   ]
  },
  {
   "cell_type": "code",
   "execution_count": 7,
   "id": "d1345f57",
   "metadata": {},
   "outputs": [],
   "source": [
    "# resample chm pour coller avec l'image aerienne (-> meme taille, meme resolution)\n",
    "\n",
    "import rasterio\n",
    "from rasterio.windows import from_bounds\n",
    "from rasterio.enums import Resampling\n",
    "\n",
    "# Open the reference raster to obtain its bounding coordinates and pixel size\n",
    "with rasterio.open(file_reference) as ref_src:\n",
    "    left, bottom, right, top = ref_src.bounds\n",
    "    new_width = ref_src.width\n",
    "    new_height = ref_src.height\n",
    "    src_crs = src.crs\n",
    "\n",
    "    # Define the bounding coordinates for the new window based on the reference raster\n",
    "    window = from_bounds(left, bottom, right, top, ref_src.transform)\n",
    "\n",
    "    # Open the raster to be cut\n",
    "    with rasterio.open(file_to_cut) as src:\n",
    "        # Read the data within the window with the desired resolution using a sampling method\n",
    "        data = src.read(window=window, out_shape=(new_height, new_width), resampling=Resampling.bilinear)\n",
    "\n",
    "        # Update the metadata for the new raster\n",
    "        new_meta = src.meta\n",
    "        new_meta.update({\"driver\": \"GTiff\",\n",
    "                         \"height\": new_height,\n",
    "                         \"width\": new_width,\n",
    "                         \"crs\" : src_crs ,\n",
    "                         \"transform\": ref_src.transform,\n",
    "                         \"nodata\": 0\n",
    "                        \n",
    "                        })\n",
    "        \n",
    "        new_meta.update({\"crs\" : src_crs })\n",
    "\n",
    "        # Write the resulting raster to a new file\n",
    "        with rasterio.open(outfile, \"w\", **new_meta) as dst:\n",
    "            dst.write(data)"
   ]
  },
  {
   "cell_type": "code",
   "execution_count": null,
   "id": "a2c4830b",
   "metadata": {},
   "outputs": [],
   "source": []
  },
  {
   "cell_type": "code",
   "execution_count": 9,
   "id": "6d41f204",
   "metadata": {},
   "outputs": [],
   "source": [
    "# corriger le CHM avec nodata et valeurs altitudes negatives -> 0 , h> 10  -> 10\n",
    "import numpy as np\n",
    "outfile = '../dataset_4bands/image_6/chm_image_6.tif'\n",
    "\n",
    "chm_corrected_file = '../dataset_4bands/image_6/chm_image_6_co.tif'\n",
    "with rasterio.open(outfile) as input_raster:\n",
    "    # Get the width and height of the input raster\n",
    "    width, height = input_raster.width, input_raster.height\n",
    "    \n",
    "    dst_kwargs = input_raster.meta.copy()\n",
    "    #dst_kwargs['nodata']= 0.0,  # Specify the data type as float\n",
    "\n",
    "    # Create an empty output array with the same width and height\n",
    "    output_array = np.zeros((height, width))\n",
    "    band1 = input_raster.read(1)\n",
    "     # Replace 'no data' values with 0\n",
    "    band1[band1 == input_raster.nodata] = 0.0\n",
    "    \n",
    "    output_array[:, :] = band1\n",
    "    # eleminer les valeurs négatives\n",
    "    output_array[output_array < 0.01] = 0.0\n",
    "    # eleminer les valeurs de h > 10m, ctrès rare\n",
    "    output_array[output_array > 10.01] = 10.0\n",
    "\n",
    "    # Write the output array to a new raster\n",
    "    with rasterio.open(chm_corrected_file, 'w', **dst_kwargs) as output_raster:\n",
    "        #♥output_raster.WriteArray(output_array)\n",
    "        output_raster.write(output_array, 1)"
   ]
  },
  {
   "cell_type": "code",
   "execution_count": null,
   "id": "feaab8dc",
   "metadata": {},
   "outputs": [],
   "source": []
  },
  {
   "cell_type": "code",
   "execution_count": 10,
   "id": "e596435f",
   "metadata": {},
   "outputs": [
    {
     "name": "stdout",
     "output_type": "stream",
     "text": [
      "{'driver': 'GTiff', 'dtype': 'float64', 'nodata': 0.0, 'width': 2175, 'height': 4589, 'count': 1, 'crs': CRS.from_epsg(2154), 'transform': Affine(0.2999609655172406, 0.0, 66844.6136,\n",
      "       0.0, -0.3000190891260531, 5458999.9228)}\n",
      "9981075\n",
      "Minimum value: 0.0\n",
      "Maximum value: 10.008609771728516\n",
      "Mean value: 0.1548899786158865\n",
      "Data type: float64\n"
     ]
    }
   ],
   "source": [
    "# verifier si chm decoupé est ok, valeurs corrects et pas nuls\n",
    "outfile = '../dataset_4bands/image_6/chm_image_6_co.tif'\n",
    "#outfile = '../dataset_4bands/image_2/image_2.tif'\n",
    "    \n",
    "with rasterio.open(outfile) as input_raster:\n",
    "    kwargs = input_raster.meta\n",
    "    print(kwargs)\n",
    "\n",
    "    # Read the first band\n",
    "    band1 = input_raster.read(1)\n",
    "    #band4 = input_raster.read(4)\n",
    "    print(band1.size)\n",
    "\n",
    "    # Calculate the statistics for the first band\n",
    "    min_val = np.min(band1)\n",
    "    max_val = np.max(band1)\n",
    "    mean_val = np.mean(band1)\n",
    "    data_type = band1.dtype\n",
    "\n",
    "    # Print the statistics\n",
    "    print(f\"Minimum value: {min_val}\")\n",
    "    print(f\"Maximum value: {max_val}\")\n",
    "    print(f\"Mean value: {mean_val}\")\n",
    "    print(f\"Data type: {data_type}\")"
   ]
  },
  {
   "cell_type": "code",
   "execution_count": null,
   "id": "f8c11377",
   "metadata": {},
   "outputs": [],
   "source": []
  }
 ],
 "metadata": {
  "kernelspec": {
   "display_name": "streamlit",
   "language": "python",
   "name": "streamlit"
  },
  "language_info": {
   "codemirror_mode": {
    "name": "ipython",
    "version": 3
   },
   "file_extension": ".py",
   "mimetype": "text/x-python",
   "name": "python",
   "nbconvert_exporter": "python",
   "pygments_lexer": "ipython3",
   "version": "3.8.16"
  }
 },
 "nbformat": 4,
 "nbformat_minor": 5
}
